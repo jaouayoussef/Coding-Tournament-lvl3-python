{
  "nbformat": 4,
  "nbformat_minor": 0,
  "metadata": {
    "colab": {
      "provenance": [],
      "collapsed_sections": []
    },
    "kernelspec": {
      "name": "python3",
      "display_name": "Python 3"
    },
    "language_info": {
      "name": "python"
    }
  },
  "cells": [
    {
      "cell_type": "code",
      "execution_count": 6,
      "metadata": {
        "colab": {
          "base_uri": "https://localhost:8080/"
        },
        "id": "T4Biik95jXE6",
        "outputId": "e76e3950-79ae-4008-8105-b167a1ee25c3"
      },
      "outputs": [
        {
          "output_type": "stream",
          "name": "stdout",
          "text": [
            "0    ETH-USD\n",
            "1      yahoo\n",
            "Name: eth, dtype: object\n",
            "<class 'pandas.core.series.Series'>\n"
          ]
        }
      ],
      "source": [
        "import pandas as pd\n",
        "\n",
        "data = {'eth': ['ETH-USD', 'yahoo'],\n",
        "        'sol':['SOL-USD', 'yahoo'],\n",
        "        'ada':['ADA-USD', 'yahoo']\n",
        "        }\n",
        "\n",
        "dataFrame = pd.DataFrame()\n",
        "\n",
        "engine = pd.DataFrame(data, columns = ['eth', 'sol', 'ada'])\n",
        "\n",
        "my_series = engine['eth'].squeeze()\n",
        "\n",
        "print(my_series)\n",
        "print (type(my_series))\n"
      ]
    },
    {
      "cell_type": "code",
      "source": [
        "def test(listChecker):\n",
        "    return listChecker.count(19) == 2 and listChecker.count(5) >= 3\n",
        "listChecker = [19,19,15,5,3,5,5,2]\n",
        "print(listChecker)\n",
        "print(test(listChecker))\n",
        "\n",
        "\n",
        "listChecker = [19,15,15,5,3,3,5,2]\n",
        "print(listChecker)\n",
        "print(test(listChecker))\n",
        "\n",
        "\n",
        "listChecker = [19,19,5,5,1,2,9]\n",
        "print(listChecker)\n",
        "print(test(listChecker))\n"
      ],
      "metadata": {
        "colab": {
          "base_uri": "https://localhost:8080/"
        },
        "id": "gq1hyOnbsrmU",
        "outputId": "264f4410-b093-4837-f1f8-64a341f110c7"
      },
      "execution_count": 7,
      "outputs": [
        {
          "output_type": "stream",
          "name": "stdout",
          "text": [
            "[19, 19, 15, 5, 3, 5, 5, 2]\n",
            "True\n",
            "[19, 15, 15, 5, 3, 3, 5, 2]\n",
            "False\n",
            "[19, 19, 5, 5, 1, 2, 9]\n",
            "False\n"
          ]
        }
      ]
    },
    {
      "cell_type": "code",
      "source": [
        "from ast import mod\n",
        "def powerMode(a):\n",
        "  \n",
        " a = int \n",
        "b = 256 \n",
        "\n",
        "a = int(input(\"enter a number:  \"))\n",
        "\n",
        "if a > b and a % 34 == 4 :\n",
        "  print(\"True\")\n",
        "else :\n",
        "  print(\"False\")\n",
        "\n"
      ],
      "metadata": {
        "colab": {
          "base_uri": "https://localhost:8080/"
        },
        "id": "BobMpoxz-HZn",
        "outputId": "b7e417c6-dc72-4f56-bca9-19c1f3f6a2b1"
      },
      "execution_count": 25,
      "outputs": [
        {
          "output_type": "stream",
          "name": "stdout",
          "text": [
            "enter a number:  1\n",
            "False\n"
          ]
        }
      ]
    },
    {
      "cell_type": "code",
      "source": [
        "def maxLength(list):\n",
        "    a = 0\n",
        "    answer = \"\"\n",
        "    for item in list:\n",
        "        x = len(item)\n",
        "        if x > a:\n",
        "            a = x\n",
        "            answer = item\n",
        "        elif x == a:\n",
        "            if item not in list:\n",
        "                answer = answer + \" \" + item\n",
        "    return answer\n",
        "\n",
        "print(maxLength(['hi', 'hello', 'welcome','good morning', 'great', 'hola']))"
      ],
      "metadata": {
        "colab": {
          "base_uri": "https://localhost:8080/"
        },
        "id": "6R8n9phxA33T",
        "outputId": "26ae9b15-b22f-4a47-ef8a-201be987a448"
      },
      "execution_count": 2,
      "outputs": [
        {
          "output_type": "stream",
          "name": "stdout",
          "text": [
            "good morning\n"
          ]
        }
      ]
    },
    {
      "cell_type": "code",
      "source": [
        "def monotonic(L):\n",
        "    if (all(x<y for x, y in zip(L, L[1:]))):\n",
        "        return \"Increasing\" \n",
        "    if (all(x>y for x, y in zip(L, L[1:]))):\n",
        "        return \"Decreasing\"\n",
        "    return \"Not Monotonic\"\n",
        "\n",
        "print(monotonic([1,2,3,4,5,6]))\n",
        "print(monotonic([6,5,4,3,2,1]))\n",
        "print(monotonic([19,19,5,5,5,5,5]))"
      ],
      "metadata": {
        "colab": {
          "base_uri": "https://localhost:8080/"
        },
        "id": "DrSO0aHZBCuX",
        "outputId": "ed198b3a-c397-452a-b071-dd124f7ce5b5"
      },
      "execution_count": 3,
      "outputs": [
        {
          "output_type": "stream",
          "name": "stdout",
          "text": [
            "Increasing\n",
            "Decreasing\n",
            "Not Monotonic\n"
          ]
        }
      ]
    }
  ]
}